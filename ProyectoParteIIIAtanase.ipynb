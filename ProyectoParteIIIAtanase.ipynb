{
 "cells": [
  {
   "cell_type": "markdown",
   "id": "5410a9c0",
   "metadata": {},
   "source": [
    "# Proyecto Parte III - Fentanilo Contaminado en Argentina\n",
    "\n",
    "Este notebook desarrolla el caso del **fentanilo contaminado en Argentina** con análisis de datos, selección de características, modelos de clasificación y métricas de validación."
   ]
  },
  {
   "cell_type": "code",
   "execution_count": null,
   "id": "b5f15210",
   "metadata": {},
   "outputs": [
    {
     "ename": "",
     "evalue": "",
     "output_type": "error",
     "traceback": [
      "\u001b[1;31mRunning cells with 'base (Python 3.13.5)' requires the ipykernel package.\n",
      "\u001b[1;31m<a href='command:jupyter.createPythonEnvAndSelectController'>Create a Python Environment</a> with the required packages.\n",
      "\u001b[1;31mOr install 'ipykernel' using the command: 'conda install -n base ipykernel --update-deps --force-reinstall'"
     ]
    }
   ],
   "source": [
    "\n",
    "import pandas as pd\n",
    "import numpy as np\n",
    "import matplotlib.pyplot as plt\n",
    "import seaborn as sns\n",
    "\n",
    "from sklearn.model_selection import train_test_split\n",
    "from sklearn.feature_selection import SelectKBest, f_classif\n",
    "from sklearn.linear_model import LogisticRegression\n",
    "from sklearn.ensemble import RandomForestClassifier\n",
    "from sklearn.metrics import classification_report, confusion_matrix, roc_auc_score, RocCurveDisplay\n"
   ]
  },
  {
   "cell_type": "code",
   "execution_count": null,
   "id": "cad2c0f2",
   "metadata": {},
   "outputs": [],
   "source": [
    "\n",
    "# Cargar dataset (ajustar nombre si corresponde)\n",
    "df = pd.read_csv('data/dataset.csv')\n",
    "df.head()\n"
   ]
  },
  {
   "cell_type": "code",
   "execution_count": null,
   "id": "9ad550e0",
   "metadata": {},
   "outputs": [],
   "source": [
    "\n",
    "# Variables a utilizar (según consigna)\n",
    "features = [\n",
    "    'cant_ampollas_en_argen',\n",
    "    'cant_ampollas_infectadas',\n",
    "    'cant_ampollas',\n",
    "    'cant_laboratorios',\n",
    "    'cant_amp_por_laboratorio',\n",
    "    'cant_pacientes',\n",
    "    'cant_aplicaciones',\n",
    "    'cant_casos_graves',\n",
    "    'cant_casos_sin_consecuencias',\n",
    "    'cant_defunciones',\n",
    "    'cant_via_intravenosa',\n",
    "    'cant_intramuscular',\n",
    "    'cant_intranasal',\n",
    "    'cant_bucal',\n",
    "    'cant_transdermica'\n",
    "]\n",
    "\n",
    "X = df[features]\n",
    "y = df['label']  # Ajustar la variable target según dataset\n",
    "\n",
    "# Feature selection con ANOVA F-test\n",
    "selector = SelectKBest(score_func=f_classif, k=5)\n",
    "X_new = selector.fit_transform(X, y)\n",
    "selected_features = [features[i] for i in selector.get_support(indices=True)]\n",
    "selected_features\n"
   ]
  },
  {
   "cell_type": "code",
   "execution_count": null,
   "id": "d7be5fbb",
   "metadata": {},
   "outputs": [],
   "source": [
    "\n",
    "X_train, X_test, y_train, y_test = train_test_split(X[selected_features], y, test_size=0.2, random_state=42)\n",
    "\n",
    "# Modelo Logistic Regression\n",
    "log_reg = LogisticRegression(max_iter=1000)\n",
    "log_reg.fit(X_train, y_train)\n",
    "y_pred_lr = log_reg.predict(X_test)\n",
    "\n",
    "print(\"Logistic Regression\")\n",
    "print(classification_report(y_test, y_pred_lr))\n",
    "\n",
    "# Modelo Random Forest\n",
    "rf = RandomForestClassifier(random_state=42)\n",
    "rf.fit(X_train, y_train)\n",
    "y_pred_rf = rf.predict(X_test)\n",
    "\n",
    "print(\"Random Forest\")\n",
    "print(classification_report(y_test, y_pred_rf))\n"
   ]
  },
  {
   "cell_type": "code",
   "execution_count": null,
   "id": "0a42a0cd",
   "metadata": {},
   "outputs": [],
   "source": [
    "\n",
    "# Mediana de días entre administración y fallecimiento\n",
    "if 'dias_admin_fallecimiento' in df.columns:\n",
    "    mediana_dias = df['dias_admin_fallecimiento'].median()\n",
    "    print(\"Mediana de días:\", mediana_dias)\n",
    "\n",
    "# Porcentaje de infección por edades\n",
    "if 'edad' in df.columns and 'infectado' in df.columns:\n",
    "    infeccion_edades = df.groupby('edad')['infectado'].mean() * 100\n",
    "    infeccion_edades.plot(kind='bar', figsize=(8,4), title=\"Porcentaje de Infección por Edades\")\n",
    "    plt.show()\n",
    "\n",
    "# Colocación por Administración\n",
    "vias = ['cant_via_intravenosa','cant_intramuscular','cant_intranasal','cant_bucal','cant_transdermica']\n",
    "df[vias].sum().plot(kind='bar', figsize=(8,4), title=\"Colocación por Administración\")\n",
    "plt.show()\n",
    "\n",
    "# Casos por Defunción\n",
    "if 'defuncion' in df.columns:\n",
    "    df['defuncion'].value_counts().plot(kind='bar', title=\"Casos por Defunción\")\n",
    "    plt.show()\n",
    "\n",
    "# Contaminación por Lotes\n",
    "if 'lote' in df.columns and 'infectado' in df.columns:\n",
    "    df.groupby('lote')['infectado'].mean().plot(kind='bar', figsize=(8,4), title=\"Contaminación por Lotes\")\n",
    "    plt.show()\n",
    "\n",
    "# Producción por Laboratorios\n",
    "if 'laboratorio' in df.columns:\n",
    "    df['laboratorio'].value_counts().plot(kind='bar', figsize=(8,4), title=\"Producción por Laboratorios\")\n",
    "    plt.show()\n"
   ]
  },
  {
   "cell_type": "code",
   "execution_count": null,
   "id": "4204d523",
   "metadata": {},
   "outputs": [],
   "source": [
    "import shutil\n",
    "\n",
    "# Definir ruta del zip\n",
    "zip_path = Path(\"c:/natanase/ProyectoIIIAtanase.zip\")\n",
    "\n",
    "# Crear zip con todo el contenido de la carpeta\n",
    "shutil.make_archive(str(zip_path).replace(\".zip\", \"\"), 'zip', \"c:/natanase/ProyectoIIIAtanase\")\n",
    "\n",
    "zip_path\n"
   ]
  }
 ],
 "metadata": {
  "kernelspec": {
   "display_name": "base",
   "language": "python",
   "name": "python3"
  },
  "language_info": {
   "name": "python",
   "version": "3.13.5"
  }
 },
 "nbformat": 4,
 "nbformat_minor": 5
}
